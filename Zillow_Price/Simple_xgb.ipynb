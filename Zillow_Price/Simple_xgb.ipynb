{
 "cells": [
  {
   "cell_type": "code",
   "execution_count": 1,
   "metadata": {
    "collapsed": true
   },
   "outputs": [],
   "source": [
    "import numpy as np # linear algebra\n",
    "import pandas as pd # data processing, CSV file I/O (e.g. pd.read_csv)\n",
    "import matplotlib.pyplot as plt\n",
    "import xgboost as xgb\n",
    "import seaborn as sns\n",
    "import gc\n",
    "import os\n",
    "color = sns.color_palette()\n",
    "\n",
    "%matplotlib inline\n",
    "\n",
    "pd.options.mode.chained_assignment = None\n",
    "pd.options.display.max_columns = 999\n",
    "os.chdir('/san-data/usecase/magnet_g/misc/PCA_DATA_VIS/Yiming/Summer 2017') "
   ]
  },
  {
   "cell_type": "code",
   "execution_count": 2,
   "metadata": {
    "collapsed": false
   },
   "outputs": [
    {
     "name": "stdout",
     "output_type": "stream",
     "text": [
      "Loading data ...\n"
     ]
    },
    {
     "name": "stderr",
     "output_type": "stream",
     "text": [
      "/opt/anaconda/4.1.1/lib/python2.7/site-packages/IPython/core/interactiveshell.py:2723: DtypeWarning: Columns (22,32,34,49,55) have mixed types. Specify dtype option on import or set low_memory=False.\n",
      "  interactivity=interactivity, compiler=compiler, result=result)\n"
     ]
    }
   ],
   "source": [
    "print('Loading data ...')\n",
    "\n",
    "train = pd.read_csv('train_2016_v2.csv')\n",
    "prop = pd.read_csv('properties_2016.csv')"
   ]
  },
  {
   "cell_type": "markdown",
   "metadata": {},
   "source": [
    "Convert variable type from float64 to float32."
   ]
  },
  {
   "cell_type": "code",
   "execution_count": 3,
   "metadata": {
    "collapsed": false
   },
   "outputs": [],
   "source": [
    "for c, dtype in zip(prop.columns, prop.dtypes):\n",
    "    if dtype == np.float64:\n",
    "        prop[c] = prop[c].astype(np.float32)"
   ]
  },
  {
   "cell_type": "markdown",
   "metadata": {},
   "source": [
    "Now let's creating training set by merging two datasets together by \"parcelid\"."
   ]
  },
  {
   "cell_type": "code",
   "execution_count": 4,
   "metadata": {
    "collapsed": false
   },
   "outputs": [
    {
     "name": "stdout",
     "output_type": "stream",
     "text": [
      "((90275, 55), (90275,))\n"
     ]
    }
   ],
   "source": [
    "df_train = train.merge(prop, how = \"left\", on = \"parcelid\")\n",
    "mean_values = df_train.mean(axis = 0)\n",
    "df_train = df_train.fillna(mean_values, inplace = True) # imputation\n",
    "\n",
    "# drop some unnecessary columns\n",
    "# predictors\n",
    "x_train = df_train.drop(['parcelid', 'logerror', 'transactiondate', 'propertyzoningdesc', 'propertycountylandusecode'], axis = 1)\n",
    "\n",
    "# target\n",
    "y_train = df_train['logerror'].values\n",
    "\n",
    "# shapes\n",
    "print(x_train.shape, y_train.shape)"
   ]
  },
  {
   "cell_type": "code",
   "execution_count": 5,
   "metadata": {
    "collapsed": false
   },
   "outputs": [
    {
     "data": {
      "text/plain": [
       "7"
      ]
     },
     "execution_count": 5,
     "metadata": {},
     "output_type": "execute_result"
    }
   ],
   "source": [
    "# train columns (variable names)\n",
    "train_columns = x_train.columns\n",
    "\n",
    "for c in x_train.dtypes[x_train.dtypes == object].index.values:\n",
    "    x_train[c] = (x_train[c] == True)\n",
    "\n",
    "del df_train\n",
    "\n",
    "gc.collect()"
   ]
  },
  {
   "cell_type": "markdown",
   "metadata": {},
   "source": [
    "### Train-valid Split\n",
    "Training set is the first 80000 rows, validation set is the remaining rows."
   ]
  },
  {
   "cell_type": "code",
   "execution_count": 6,
   "metadata": {
    "collapsed": true
   },
   "outputs": [],
   "source": [
    "split = 80000\n",
    "x_train, y_train, x_valid, y_valid = x_train[:split], y_train[:split], x_train[split:], y_train[split:]"
   ]
  },
  {
   "cell_type": "markdown",
   "metadata": {},
   "source": [
    "### Train the model"
   ]
  },
  {
   "cell_type": "code",
   "execution_count": 7,
   "metadata": {
    "collapsed": false
   },
   "outputs": [
    {
     "name": "stderr",
     "output_type": "stream",
     "text": [
      "Will train until valid error hasn't decreased in 100 rounds.\n",
      "[0]\ttrain-rmse:0.506043\tvalid-rmse:0.497858\n",
      "[10]\ttrain-rmse:0.423753\tvalid-rmse:0.415290\n",
      "[20]\ttrain-rmse:0.358409\tvalid-rmse:0.349657\n",
      "[30]\ttrain-rmse:0.307110\tvalid-rmse:0.298022\n",
      "[40]\ttrain-rmse:0.267432\tvalid-rmse:0.257970\n",
      "[50]\ttrain-rmse:0.237248\tvalid-rmse:0.227515\n",
      "[60]\ttrain-rmse:0.214724\tvalid-rmse:0.204738\n",
      "[70]\ttrain-rmse:0.198238\tvalid-rmse:0.188093\n",
      "[80]\ttrain-rmse:0.186330\tvalid-rmse:0.176197\n",
      "[90]\ttrain-rmse:0.177901\tvalid-rmse:0.167854\n",
      "[100]\ttrain-rmse:0.171964\tvalid-rmse:0.162076\n",
      "[110]\ttrain-rmse:0.167831\tvalid-rmse:0.158110\n",
      "[120]\ttrain-rmse:0.164977\tvalid-rmse:0.155456\n",
      "[130]\ttrain-rmse:0.163009\tvalid-rmse:0.153603\n",
      "[140]\ttrain-rmse:0.161637\tvalid-rmse:0.152328\n",
      "[150]\ttrain-rmse:0.160650\tvalid-rmse:0.151472\n",
      "[160]\ttrain-rmse:0.159974\tvalid-rmse:0.150991\n",
      "[170]\ttrain-rmse:0.159466\tvalid-rmse:0.150678\n",
      "[180]\ttrain-rmse:0.159079\tvalid-rmse:0.150443\n",
      "[190]\ttrain-rmse:0.158806\tvalid-rmse:0.150326\n",
      "[200]\ttrain-rmse:0.158552\tvalid-rmse:0.150250\n",
      "[210]\ttrain-rmse:0.158355\tvalid-rmse:0.150200\n",
      "[220]\ttrain-rmse:0.158222\tvalid-rmse:0.150187\n",
      "[230]\ttrain-rmse:0.158077\tvalid-rmse:0.150193\n",
      "[240]\ttrain-rmse:0.157967\tvalid-rmse:0.150208\n",
      "[250]\ttrain-rmse:0.157850\tvalid-rmse:0.150236\n",
      "[260]\ttrain-rmse:0.157758\tvalid-rmse:0.150272\n",
      "[270]\ttrain-rmse:0.157660\tvalid-rmse:0.150288\n",
      "[280]\ttrain-rmse:0.157553\tvalid-rmse:0.150297\n",
      "[290]\ttrain-rmse:0.157445\tvalid-rmse:0.150345\n",
      "[300]\ttrain-rmse:0.157338\tvalid-rmse:0.150358\n",
      "[310]\ttrain-rmse:0.157223\tvalid-rmse:0.150306\n",
      "[320]\ttrain-rmse:0.157128\tvalid-rmse:0.150333\n",
      "Stopping. Best iteration:\n",
      "[223]\ttrain-rmse:0.158174\tvalid-rmse:0.150178\n",
      "\n"
     ]
    }
   ],
   "source": [
    "d_train = xgb.DMatrix(x_train, label = y_train)\n",
    "d_valid = xgb.DMatrix(x_valid, label = y_valid)\n",
    "\n",
    "params = {\n",
    "    'eta': 0.02, \n",
    "    'max_depth': 4,\n",
    "    'objective': 'reg:linear',\n",
    "    'silent': 1\n",
    "}\n",
    "\n",
    "watchlist = [(d_train, 'train'), (d_valid, 'valid')]\n",
    "clf = xgb.train(params, d_train, 10000, watchlist, early_stopping_rounds = 100, verbose_eval = 10)"
   ]
  },
  {
   "cell_type": "code",
   "execution_count": 23,
   "metadata": {
    "collapsed": false
   },
   "outputs": [],
   "source": [
    "# Build test set\n",
    "sample = pd.read_csv('sample_submission.csv')\n",
    "sample['parcelid'] = sample['ParcelId']\n",
    "df_test = sample.merge(prop, on = 'parcelid', how = 'left')"
   ]
  },
  {
   "cell_type": "code",
   "execution_count": 24,
   "metadata": {
    "collapsed": false
   },
   "outputs": [],
   "source": [
    "mean_values = df_test[train_columns].mean(axis = 0)\n",
    "df_test[train_columns] = df_test[train_columns].fillna(mean_values, inplace = True) # imputation"
   ]
  },
  {
   "cell_type": "code",
   "execution_count": 25,
   "metadata": {
    "collapsed": false
   },
   "outputs": [],
   "source": [
    "x_test = df_test[train_columns]\n",
    "for c in x_test.dtypes[x_test.dtypes == object].index.values:\n",
    "    x_test[c] = (x_test[c] == True)\n",
    "    \n",
    "d_test = xgb.DMatrix(x_test)"
   ]
  },
  {
   "cell_type": "markdown",
   "metadata": {},
   "source": [
    "### Predictions"
   ]
  },
  {
   "cell_type": "code",
   "execution_count": 26,
   "metadata": {
    "collapsed": false
   },
   "outputs": [],
   "source": [
    "p_test = clf.predict(d_test)\n",
    "\n",
    "sub = pd.read_csv('sample_submission.csv')\n",
    "for c in sub.columns[sub.columns != 'ParcelId']:\n",
    "    sub[c] = p_test\n",
    "    \n",
    "# write to csv, 4 decimals\n",
    "sub.to_csv('xgb_starter.csv', index = False, float_format = '%.4f')"
   ]
  },
  {
   "cell_type": "code",
   "execution_count": 27,
   "metadata": {
    "collapsed": false
   },
   "outputs": [
    {
     "data": {
      "text/plain": [
       "(2985217, 7)"
      ]
     },
     "execution_count": 27,
     "metadata": {},
     "output_type": "execute_result"
    }
   ],
   "source": [
    "sub.shape"
   ]
  },
  {
   "cell_type": "code",
   "execution_count": null,
   "metadata": {
    "collapsed": true
   },
   "outputs": [],
   "source": []
  }
 ],
 "metadata": {
  "kernelspec": {
   "display_name": "Python [Root]",
   "language": "python",
   "name": "Python [Root]"
  },
  "language_info": {
   "codemirror_mode": {
    "name": "ipython",
    "version": 2
   },
   "file_extension": ".py",
   "mimetype": "text/x-python",
   "name": "python",
   "nbconvert_exporter": "python",
   "pygments_lexer": "ipython2",
   "version": "2.7.12"
  }
 },
 "nbformat": 4,
 "nbformat_minor": 0
}
